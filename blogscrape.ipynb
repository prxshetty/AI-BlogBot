{
 "cells": [
  {
   "cell_type": "code",
   "execution_count": 2,
   "id": "cac13e8a-a25e-4be3-8aec-8b569a31f77e",
   "metadata": {},
   "outputs": [],
   "source": [
    "from bs4 import BeautifulSoup\n",
    "import requests\n",
    "from urllib.parse import urljoin\n",
    "from requests_html import HTMLSession"
   ]
  },
  {
   "cell_type": "code",
   "execution_count": 5,
   "id": "34380fdd-243f-4695-a307-7602f738bc75",
   "metadata": {},
   "outputs": [],
   "source": [
    "base_url='https://www.wired.com/tag/machine-learning/'\n",
    "page= requests.get(base_url)\n",
    "soup=BeautifulSoup(page.text, 'html')"
   ]
  },
  {
   "cell_type": "code",
   "execution_count": 6,
   "id": "0c5ed4b5-7241-4644-aec6-e3b23dced49f",
   "metadata": {},
   "outputs": [],
   "source": [
    "def get_content_from_url(base_url, relative_url):\n",
    "    try:\n",
    "        absolute_url = urljoin(base_url, relative_url)\n",
    "        session = HTMLSession()\n",
    "        response = session.get(absolute_url)\n",
    "        response.raise_for_status() \n",
    "        content = response.html.find('div.body__inner-container', first=True).text\n",
    "        \n",
    "        return content\n",
    "    except requests.exceptions.RequestException as e:\n",
    "        print(f\"Error fetching content from URL '{absolute_url}': {e}\")\n",
    "        return None\n",
    "\n",
    "def extract_titles_and_content(base_url):\n",
    "    title_content_dict = {}\n",
    "    titles = soup.select('.SummaryItemHedBase-hiFYpQ')\n",
    "    for title in titles:\n",
    "        title_text = title.text.strip()\n",
    "        content_url = title.find_parent('a')['href']\n",
    "        \n",
    "        content = get_content_from_url(base_url, content_url)\n",
    "        if content is not None:\n",
    "            title_content_dict[title_text] = content\n",
    "    return title_content_dict\n",
    "    \n",
    "title_content_dict = extract_titles_and_content(base_url)"
   ]
  },
  {
   "cell_type": "code",
   "execution_count": 9,
   "id": "3b319848-1ea8-45a6-bd85-28b7bb6ac2f0",
   "metadata": {},
   "outputs": [
    {
     "name": "stdout",
     "output_type": "stream",
     "text": [
      "Title: ChatGPT's Hunger for Energy Could Trigger a GPU Revolution\n",
      "Content: The cost of making further progress in artificial intelligence is becoming as startling as a hallucination by ChatGPT. Demand for the graphics chips known as GPUs needed for large-scale AI training has driven prices of the crucial components through the roof. OpenAI has said that training the algorithm that now powers ChatGPT cost the firm over $100 million. The race to compete in AI also means that data centers are now consuming worrying amounts of energy.\n",
      "Sign Up Today\n",
      "This is an edition of WIRED's Fast Forward newsletter, a weekly dispatch from the future by Will Knight, exploring AI advances and other technology set to change our lives.\n",
      "The AI gold rush has a few startups hatching bold plans to create new computational shovels to sell. Nvidia’s GPUs are by far the most popular hardware for AI development, but these upstarts argue it’s time for a radical rethink of how computer chips are designed.\n",
      "Normal Computing, a startup founded by veterans of Google Brain and Alphabet’s moonshot lab X, has developed a simple prototype that is a first step toward rebooting computing from first principles.\n",
      "A conventional silicon chip runs computations by handling binary bits—that’s 0s and 1s—representing information. Normal Computing’s stochastic processing unit, or SPU, exploits the thermodynamic properties of electrical oscillators to perform calculations using random fluctuations that occur inside the circuits. That can generate random samples useful for computations or to solve linear algebra calculations, which are ubiquitous in science, engineering, and machine learning.\n",
      "Faris Sbahi, the CEO of Normal Computing, explains that the hardware is both highly efficient and well suited to handling statistical calculations. This could someday make it useful for building AI algorithms that can handle uncertainty, perhaps addressing the tendency of large language models to “hallucinate” outputs when unsure.\n",
      "Sbahi says the recent success of generative AI is impressive, but far from\n",
      "\n",
      "Title: This Tech Exec Quit His Job to Fight Generative AI's Original Sin\n",
      "Content: Ed Newton-Rex says generative AI has an ethics problem. He ought to know, because he used to be part of the fast-growing industry. Newton-Rex was TikTok’s head AI designer and then an executive at Stability AI until he quit in disgust in November over the company’s stance on collecting training data.\n",
      "After his high-profile departure, Newton-Rex threw himself into conversation after conversation about what building AI ethically would look like in practice. “It struck me that there are a lot of people who want to use generative AI models that treat creators fairly,” he says. “If you can give them better decisionmaking tools, that’s helpful.”\n",
      "Ed Newton-Rex's nonprofit is trying to encourage companies to be more thoughtful about sourcing training data for AI projects.\n",
      "Courtesy of Ed Newton-Rex\n",
      "Now Newton-Rex has launched a new nonprofit, Fairly Trained, to give people exactly that type of decisionmaking tool. It offers a certification program to identify AI companies that license their training data. The AI industry now has its own version of those “fair trade” certification labels you see on coffee.\n",
      "To earn Fairly Trained’s certification label, which it calls L Certification, a company must prove that its training data was either explicitly licensed for training purposes, in the public domain, offered under an appropriate open license, or already belonged to the company.\n",
      "So far, nine companies have received the certification, including image generator Bria AI, which trains exclusively on data licensed from sources like Getty Images, and music generation platform LifeScore Music, which licenses work from all the major record labels. Several others are close to completing their certification. The nonprofit charges a fee of $500 to $6,000, depending on the size of the applicant’s business.\n",
      "OpenAI— the world’s leading generative AI company—recently argued that it is impossible to create generative AI services like ChatGPT without using unlicensed data. Newton-Rex and the f\n",
      "\n"
     ]
    },
    {
     "ename": "NameError",
     "evalue": "name 'breakpara' is not defined",
     "output_type": "error",
     "traceback": [
      "\u001b[0;31m---------------------------------------------------------------------------\u001b[0m",
      "\u001b[0;31mNameError\u001b[0m                                 Traceback (most recent call last)",
      "Cell \u001b[0;32mIn[9], line 11\u001b[0m\n\u001b[1;32m      8\u001b[0m     \u001b[38;5;28mprint\u001b[39m(\u001b[38;5;124mf\u001b[39m\u001b[38;5;124m\"\u001b[39m\u001b[38;5;124mNo content found for title: \u001b[39m\u001b[38;5;132;01m{\u001b[39;00mtitle\u001b[38;5;132;01m}\u001b[39;00m\u001b[38;5;124m\"\u001b[39m)\n\u001b[1;32m     10\u001b[0m \u001b[38;5;28;01mif\u001b[39;00m i \u001b[38;5;241m+\u001b[39m \u001b[38;5;241m1\u001b[39m \u001b[38;5;241m>\u001b[39m\u001b[38;5;241m=\u001b[39m num_titles_to_print:\n\u001b[0;32m---> 11\u001b[0m     \u001b[43mbreakpara\u001b[49m\n",
      "\u001b[0;31mNameError\u001b[0m: name 'breakpara' is not defined"
     ]
    }
   ],
   "source": [
    "num_titles_to_print = 2\n",
    "for i, (title, content) in enumerate(title_content_dict.items()):\n",
    "    if content.strip():  #making sure its not empty\n",
    "        print(f\"Title: {title}\")\n",
    "        print(f\"Content: {content[:2000]}\\n\")\n",
    "    else:\n",
    "        print(f\"No content found for title: {title}\")\n",
    "\n",
    "    if i + 1 >= num_titles_to_print:\n",
    "        breakpara"
   ]
  },
  {
   "cell_type": "code",
   "execution_count": 7,
   "id": "201195c7-ba6f-4019-b2f1-7c9f66c1e6a2",
   "metadata": {},
   "outputs": [
    {
     "name": "stdout",
     "output_type": "stream",
     "text": [
      "Title: ChatGPT's Hunger for Energy Could Trigger a GPU Revolution\n",
      "Title: This Tech Exec Quit His Job to Fight Generative AI's Original Sin\n",
      "Title: How to Launch a Custom Chatbot on OpenAI’s GPT Store\n",
      "Title: Toyota's Robots Are Learning to Do Housework—By Copying Humans\n",
      "Title: In Defense of AI Hallucinations\n",
      "Title: The Man Who Made Robots Dance Now Wants Them to Think for Themselves\n",
      "Title: AI May Not Steal Your Job, but It Could Stop You Getting Hired\n",
      "Title: Generative AI Learned Nothing From Web 2.0\n",
      "Title: OpenAI Cofounder Reid Hoffman Gives Sam Altman a Vote of Confidence\n",
      "Title: Google Just Launched Gemini, Its Long-Awaited Answer to ChatGPT\n",
      "Title: The Year of ChatGPT and Living Generatively\n",
      "Title: These Clues Hint at the True Nature of OpenAI’s Shadowy Q* Project\n",
      "Title: How OpenAI’s Bizarre Structure Gave 4 People the Power to Fire Sam Altman\n",
      "Title: The Case for Using AI to Log Your Every Living Moment\n",
      "Title: YouTube Shorts Challenges TikTok With Music-Making AI for Creators\n",
      "Title: Google DeepMind’s AI Weather Forecaster Handily Beats a Global Standard\n",
      "Title: Fei-Fei Li Started an AI Revolution by Seeing Like an Algorithm\n",
      "Title: This New Breed of AI Assistant Wants to Do Your Boring Office Chores\n",
      "Title: OpenAI Wants Everyone to Build Their Own Version of ChatGPT\n",
      "Title: Joe Biden Has a Secret Weapon Against Killer AI. It's Bureaucrats\n",
      "Title: Joe Biden’s Sweeping New Executive Order Aims to Drag the US Government Into the Age of ChatGPT\n",
      "Title: Why Read Books When You Can Use Chatbots to Talk to Them Instead?\n",
      "Title: These Nightmare AI Scenarios Have the UK Government Spooked\n",
      "Title: The AI-Generated Child Abuse Nightmare Is Here\n",
      "Title: How a 27-Year-Old Codebreaker Busted the Myth of Bitcoin’s Anonymity\n",
      "Title: You Can Take Sony’s Full Frame Camera Anywhere\n",
      "Title: The One Part of the Vision Pro That Apple Doesn’t Want You to See\n",
      "Title: Apple Shares the Secret of Why the 40-Year-Old Mac Still Rules\n"
     ]
    }
   ],
   "source": [
    "for title, content in title_content_dict.items():\n",
    "    print(f\"Title: {title}\")\n",
    "    # print(f\"Content: {content}\\n\")"
   ]
  }
 ],
 "metadata": {
  "kernelspec": {
   "display_name": "Python 3 (ipykernel)",
   "language": "python",
   "name": "python3"
  },
  "language_info": {
   "codemirror_mode": {
    "name": "ipython",
    "version": 3
   },
   "file_extension": ".py",
   "mimetype": "text/x-python",
   "name": "python",
   "nbconvert_exporter": "python",
   "pygments_lexer": "ipython3",
   "version": "3.11.6"
  }
 },
 "nbformat": 4,
 "nbformat_minor": 5
}
