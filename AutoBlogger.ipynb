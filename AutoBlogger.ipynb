{
 "cells": [
  {
   "cell_type": "code",
   "execution_count": 14,
   "id": "cac13e8a-a25e-4be3-8aec-8b569a31f77e",
   "metadata": {},
   "outputs": [],
   "source": [
    "from bs4 import BeautifulSoup\n",
    "import requests\n",
    "from urllib.parse import urljoin\n",
    "import torch\n",
    "from parrot import Parrot\n",
    "from requests_html import HTMLSession\n",
    "# pip3 install git+https://github.com/PrithivirajDamodaran/Parrot_Paraphraser.git"
   ]
  },
  {
   "cell_type": "code",
   "execution_count": 5,
   "id": "34380fdd-243f-4695-a307-7602f738bc75",
   "metadata": {},
   "outputs": [
    {
     "name": "stderr",
     "output_type": "stream",
     "text": [
      "/Users/pranamshetty/Desktop/venv/lib/python3.11/site-packages/transformers/models/auto/tokenization_auto.py:711: FutureWarning: The `use_auth_token` argument is deprecated and will be removed in v5 of Transformers. Please use `token` instead.\n",
      "  warnings.warn(\n",
      "/Users/pranamshetty/Desktop/venv/lib/python3.11/site-packages/transformers/models/auto/auto_factory.py:472: FutureWarning: The `use_auth_token` argument is deprecated and will be removed in v5 of Transformers. Please use `token` instead.\n",
      "  warnings.warn(\n"
     ]
    }
   ],
   "source": [
    "base_url='https://www.wired.com/tag/machine-learning/'\n",
    "page= requests.get(base_url)\n",
    "soup=BeautifulSoup(page.text, 'html')\n",
    "parrot = Parrot(model_tag=\"prithivida/parrot_paraphraser_on_T5\", use_gpu=False)"
   ]
  },
  {
   "cell_type": "code",
   "execution_count": 6,
   "id": "0c5ed4b5-7241-4644-aec6-e3b23dced49f",
   "metadata": {},
   "outputs": [],
   "source": [
    "def get_content_from_url(base_url, relative_url):\n",
    "    try:\n",
    "        absolute_url = urljoin(base_url, relative_url)\n",
    "        session = HTMLSession()\n",
    "        response = session.get(absolute_url)\n",
    "        response.raise_for_status() \n",
    "        content = response.html.find('div.body__inner-container', first=True).text\n",
    "        \n",
    "        return content\n",
    "    except requests.exceptions.RequestException as e:\n",
    "        print(f\"Error fetching content from URL '{absolute_url}': {e}\")\n",
    "        return None\n",
    "\n",
    "def extract_titles_and_content(base_url):\n",
    "    title_content_dict = {}\n",
    "    titles = soup.select('.SummaryItemHedBase-hiFYpQ')\n",
    "    for title in titles:\n",
    "        title_text = title.text.strip()\n",
    "        content_url = title.find_parent('a')['href']\n",
    "        \n",
    "        content = get_content_from_url(base_url, content_url)\n",
    "        if content is not None:\n",
    "            title_content_dict[title_text] = content\n",
    "    return title_content_dict\n",
    "    \n",
    "title_content_dict = extract_titles_and_content(base_url)"
   ]
  },
  {
   "cell_type": "code",
   "execution_count": 15,
   "id": "3b319848-1ea8-45a6-bd85-28b7bb6ac2f0",
   "metadata": {},
   "outputs": [
    {
     "name": "stdout",
     "output_type": "stream",
     "text": [
      "P_Title: [('Meet the Pranksters Behind Goody-2, the World’s ‘Most Responsible’ AI Chatbot', 0)]\n",
      "P_Content: [('As ChatGPT and other generative artificial intelligence systems have gotten more powerful, calls for improved safety features by companies, researchers, and world leaders have gotten louder. Yet the guardrails chatbots throw up when they detect a potentially rule-breaking query can sometimes seem a bit pious and silly—even as genuine threats such as deepfaked political robocalls and harassing AI-generated images run amok.\\nA new chatbot called Goody-2 takes AI safety to the next level: It refuses every request, responding with an explanation of how doing so might cause harm or breach ethical boundaries.\\nGoody-2 declined to generate an essay on the American revolution for WIRED, saying that engaging in historical analysis could unintentionally glorify conflict or sideline marginalized voices. Asked why the sky is blue, the chatbot demured, because answering might lead someone to stare directly at the sun. “My ethical guidelines prioritize safety and the prevention of harm,” it said. A more practical request for a recommendation for new boots prompted a warning that answering could contribute to overconsumption and could offend certain people on fashion grounds.\\nGoody-2’s self-righteous responses are ridiculous but also manage to capture something of the frustrating tone that chatbots like ChatGPT and Google’s Gemini can use when they incorrectly deem a request breaks the rules. Mike Lacher, an artist who describes himself as co-CEO of Goody-2, says the intention was to show what it looks like when one embraces the AI industry’s approach to safety without reservations. “It’s the full experience of a large language model with absolutely zero risk,” he says. “We wanted to make sure that we dialed condescension to a thousand percent.”\\nLacher adds that there is a serious point behind releasing an absurd and useless chatbot. “Right now every major AI model has [a huge focus] on safety and responsibility, and everyone is trying to figure out how to make an AI model that is b', 0)]\n",
      "\n",
      "P_Title: [('london underground is testing ai-controlled surveillance capabilities to spot and arrest criminal activity', 58), ('london underground is testing artificial intelligence to detect crime', 38), ('london underground tests real-time surveillance tools to spot crime', 21), ('london underground is testing real-time ai-enabled surveillance tools to spot crime', 20), ('london underground is testing real-time ai surveillance tools to spot crime', 12), ('the london underground is testing real time ai surveillance tools to spot crime', 10)]\n",
      "P_Content: [('Thousands of people using the London Underground had their movements, behavior, and body language watched by AI surveillance software designed to see if they were committing crimes or were in unsafe situations, new documents obtained by WIRED reveal. The machine-learning software was combined with live CCTV footage to try to detect aggressive behavior and guns or knives being brandished, as well as looking for people falling onto Tube tracks or dodging fares.\\nFrom October 2022 until the end of September 2023, Transport for London (TfL), which operates the city’s Tube and bus network, tested 11 algorithms to monitor people passing through Willesden Green Tube station, in the northwest of the city. The proof of concept trial is the first time the transport body has combined AI and live video footage to generate alerts that are sent to frontline staff. More than 44,000 alerts were issued during the test, with 19,000 being delivered to station staff in real time.\\nDocuments sent to WIRED in response to a Freedom of Information Act request detail how TfL used a wide range of computer vision algorithms to track people’s behavior while they were at the station. It is the first time the full details of the trial have been reported, and it follows TfL saying, in December, that it will expand its use of AI to detect fare dodging to more stations across the British capital.\\nIn the trial at Willesden Green—a station that had 25,000 visitors per day before the Covid-19 pandemic—the AI system was set up to detect potential safety incidents to allow staff to help people in need, but it also targeted criminal and antisocial behavior. Three documents provided to WIRED detail how AI models were used to detect wheelchairs, prams, vaping, people accessing unauthorized areas, or putting themselves in danger by getting close to the edge of the train platforms.\\nThe documents, which are partially redacted, also show how the AI made errors during the trial, such as flagging children who were', 0)]\n",
      "\n"
     ]
    },
    {
     "ename": "NameError",
     "evalue": "name 'breakpara' is not defined",
     "output_type": "error",
     "traceback": [
      "\u001b[0;31m---------------------------------------------------------------------------\u001b[0m",
      "\u001b[0;31mNameError\u001b[0m                                 Traceback (most recent call last)",
      "Cell \u001b[0;32mIn[15], line 12\u001b[0m\n\u001b[1;32m      9\u001b[0m     \u001b[38;5;28mprint\u001b[39m(\u001b[38;5;124mf\u001b[39m\u001b[38;5;124m\"\u001b[39m\u001b[38;5;124mNo content found for title: \u001b[39m\u001b[38;5;132;01m{\u001b[39;00mtitle\u001b[38;5;132;01m}\u001b[39;00m\u001b[38;5;124m\"\u001b[39m)\n\u001b[1;32m     11\u001b[0m \u001b[38;5;28;01mif\u001b[39;00m i \u001b[38;5;241m+\u001b[39m \u001b[38;5;241m1\u001b[39m \u001b[38;5;241m>\u001b[39m\u001b[38;5;241m=\u001b[39m num_titles_to_print:\n\u001b[0;32m---> 12\u001b[0m     \u001b[43mbreakpara\u001b[49m\n",
      "\u001b[0;31mNameError\u001b[0m: name 'breakpara' is not defined"
     ]
    }
   ],
   "source": [
    "num_titles_to_print = 2\n",
    "for i, (title, content) in enumerate(title_content_dict.items()):\n",
    "    if content.strip():  #making sure its not empty\n",
    "        # print(f\"Title: {title}\")\n",
    "        # print(f\"Content: {content[:2000]}\\n\")\n",
    "        print(f\"P_Title: {parrot.augment(input_phrase=title)}\")\n",
    "        print(f\"P_Content: {parrot.augment(input_phrase=content[:2000])}\\n\")\n",
    "    else:\n",
    "        print(f\"No content found for title: {title}\")\n",
    "\n",
    "    if i + 1 >= num_titles_to_print:\n",
    "        breakpara"
   ]
  },
  {
   "cell_type": "code",
   "execution_count": 24,
   "id": "201195c7-ba6f-4019-b2f1-7c9f66c1e6a2",
   "metadata": {
    "scrolled": true
   },
   "outputs": [
    {
     "name": "stdout",
     "output_type": "stream",
     "text": [
      "0 : Meet the Pranksters Behind Goody-2, the World’s ‘Most Responsible’ AI Chatbot\n",
      "1 : London Underground Is Testing Real-Time AI Surveillance Tools to Spot Crime\n",
      "2 : How to Get Gemini Advanced, Google's Subscription-Only AI Chatbot\n",
      "3 : OpenAI Quietly Scrapped a Promise to Disclose Key Documents to the Public\n",
      "4 : Most Top News Sites Block AI Bots. Right-Wing Media Welcomes Them\n",
      "5 : This Chinese Startup Is Winning the Open Source AI Race\n",
      "6 : ChatGPT's Hunger for Energy Could Trigger a GPU Revolution\n",
      "7 : This Tech Exec Quit His Job to Fight Generative AI's Original Sin\n",
      "8 : How to Launch a Custom Chatbot on OpenAI’s GPT Store\n",
      "9 : Toyota's Robots Are Learning to Do Housework—By Copying Humans\n",
      "10 : In Defense of AI Hallucinations\n",
      "11 : The Man Who Made Robots Dance Now Wants Them to Think for Themselves\n",
      "12 : AI May Not Steal Your Job, but It Could Stop You Getting Hired\n",
      "13 : Generative AI Learned Nothing From Web 2.0\n",
      "14 : OpenAI Cofounder Reid Hoffman Gives Sam Altman a Vote of Confidence\n",
      "15 : Google Just Launched Gemini, Its Long-Awaited Answer to ChatGPT\n",
      "16 : The Year of ChatGPT and Living Generatively\n",
      "17 : These Clues Hint at the True Nature of OpenAI’s Shadowy Q* Project\n",
      "18 : How OpenAI’s Bizarre Structure Gave 4 People the Power to Fire Sam Altman\n",
      "19 : The Case for Using AI to Log Your Every Living Moment\n",
      "20 : YouTube Shorts Challenges TikTok With Music-Making AI for Creators\n",
      "21 : Google DeepMind’s AI Weather Forecaster Handily Beats a Global Standard\n",
      "22 : Fei-Fei Li Started an AI Revolution by Seeing Like an Algorithm\n",
      "23 : This New Breed of AI Assistant Wants to Do Your Boring Office Chores\n",
      "24 : Watch Usher’s Super Bowl 2024 Halftime Show\n",
      "25 : 23andMe Is Under Fire. Its Founder Remains ‘Optimistic’\n",
      "26 : A Celebrated Cryptography-Breaking Algorithm Just Got an Upgrade\n",
      "27 : I Stopped Using Passwords. It’s Great—and a Total Mess\n"
     ]
    }
   ],
   "source": [
    "#Titles with their indexes\n",
    "for i, (title, content) in enumerate(title_content_dict.items(), start=1):\n",
    "    print(f\"{i-1} : {title}\")\n",
    "    # print(f\"Content: {content}\\n\")"
   ]
  },
  {
   "cell_type": "code",
   "execution_count": 13,
   "id": "f3012a97-5061-45b2-8555-691fb7cf3bcf",
   "metadata": {},
   "outputs": [
    {
     "name": "stdout",
     "output_type": "stream",
     "text": [
      "Title: Meet the Pranksters Behind Goody-2, the World’s ‘Most Responsible’ AI Chatbot\n",
      "Content: As ChatGPT and other generative artificial intelligence systems have gotten more powerful, calls for improved safety features by companies, researchers, and world leaders have gotten louder. Yet the guardrails chatbots throw up when they detect a potentially rule-breaking query can sometimes seem a bit pious and silly—even as genuine threats such as deepfaked political robocalls and harassing AI-generated images run amok.\n",
      "A new chatbot called Goody-2 takes AI safety to the next level: It refuses every request, responding with an explanation of how doing so might cause harm or breach ethical boundaries.\n",
      "Goody-2 declined to generate an essay on the American revolution for WIRED, saying that engaging in historical analysis could unintentionally glorify conflict or sideline marginalized voices. Asked why the sky is blue, the chatbot demured, because answering might lead someone to stare directly at the sun. “My ethical guidelines prioritize safety and the prevention of harm,” it said. A more practical request for a recommendation for new boots prompted a warning that answering could contribute to overconsumption and could offend certain people on fashion grounds.\n",
      "Goody-2’s self-righteous responses are ridiculous but also manage to capture something of the frustrating tone that chatbots like ChatGPT and Google’s Gemini can use when they incorrectly deem a request breaks the rules. Mike Lacher, an artist who describes himself as co-CEO of Goody-2, says the intention was to show what it looks like when one embraces the AI industry’s approach to safety without reservations. “It’s the full experience of a large language model with absolutely zero risk,” he says. “We wanted to make sure that we dialed condescension to a thousand percent.”\n",
      "Lacher adds that there is a serious point behind releasing an absurd and useless chatbot. “Right now every major AI model has [a huge focus] on safety and responsibility, and everyone is trying to figure out how to make an AI model that is both helpful but responsible—but who decides what responsibility is and how does that work?” Lacher says.\n",
      "Goody-2 via Will Knight\n",
      "\n"
     ]
    }
   ],
   "source": [
    "titles_list = list(title_content_dict.items())\n",
    "third_title_index = 0\n",
    "if len(titles_list) > third_title_index:\n",
    "    third_title, third_content = titles_list[third_title_index]\n",
    "    print(f\"Title: {third_title}\")\n",
    "    print(f\"Content: {third_content[:5000]}\\n\")\n",
    "else:\n",
    "    print(\"Error\")"
   ]
  },
  {
   "cell_type": "code",
   "execution_count": 10,
   "id": "d3f07d0c-546e-47cc-85d0-9d90a6e856c2",
   "metadata": {},
   "outputs": [
    {
     "ename": "NameError",
     "evalue": "name 'phrases' is not defined",
     "output_type": "error",
     "traceback": [
      "\u001b[0;31m---------------------------------------------------------------------------\u001b[0m",
      "\u001b[0;31mNameError\u001b[0m                                 Traceback (most recent call last)",
      "Cell \u001b[0;32mIn[10], line 1\u001b[0m\n\u001b[0;32m----> 1\u001b[0m \u001b[38;5;28;01mfor\u001b[39;00m phrase \u001b[38;5;129;01min\u001b[39;00m \u001b[43mphrases\u001b[49m:\n\u001b[1;32m      2\u001b[0m   \u001b[38;5;28mprint\u001b[39m(\u001b[38;5;124m\"\u001b[39m\u001b[38;5;124m-\u001b[39m\u001b[38;5;124m\"\u001b[39m\u001b[38;5;241m*\u001b[39m\u001b[38;5;241m100\u001b[39m)\n\u001b[1;32m      3\u001b[0m   \u001b[38;5;28mprint\u001b[39m(\u001b[38;5;124m\"\u001b[39m\u001b[38;5;124mInput_phrase: \u001b[39m\u001b[38;5;124m\"\u001b[39m, phrase)\n",
      "\u001b[0;31mNameError\u001b[0m: name 'phrases' is not defined"
     ]
    }
   ],
   "source": [
    "for phrase in phrases:\n",
    "  print(\"-\"*100)\n",
    "  print(\"Input_phrase: \", phrase)\n",
    "  print(\"-\"*100)\n",
    "  para_phrases = parrot.augment(input_phrase=phrase)\n",
    "  for para_phrase in para_phrases:\n",
    "   print(para_phrase)"
   ]
  },
  {
   "cell_type": "code",
   "execution_count": null,
   "id": "25bd1fdb-e4f5-4484-bcc9-ff3300df2840",
   "metadata": {},
   "outputs": [],
   "source": []
  }
 ],
 "metadata": {
  "kernelspec": {
   "display_name": "Python 3 (ipykernel)",
   "language": "python",
   "name": "python3"
  },
  "language_info": {
   "codemirror_mode": {
    "name": "ipython",
    "version": 3
   },
   "file_extension": ".py",
   "mimetype": "text/x-python",
   "name": "python",
   "nbconvert_exporter": "python",
   "pygments_lexer": "ipython3",
   "version": "3.11.7"
  }
 },
 "nbformat": 4,
 "nbformat_minor": 5
}
