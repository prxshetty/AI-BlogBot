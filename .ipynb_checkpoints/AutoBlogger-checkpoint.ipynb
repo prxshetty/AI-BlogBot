{
 "cells": [
  {
   "cell_type": "code",
   "execution_count": 1,
   "id": "cac13e8a-a25e-4be3-8aec-8b569a31f77e",
   "metadata": {},
   "outputs": [],
   "source": [
    "from bs4 import BeautifulSoup\n",
    "import requests\n",
    "import torch\n",
    "from transformers import PegasusForConditionalGeneration, PegasusTokenizer\n",
    "from urllib.parse import urljoin\n",
    "from requests_html import HTMLSession"
   ]
  },
  {
   "cell_type": "code",
   "execution_count": 2,
   "id": "03a57428-b233-4dba-b75e-6ff25cf84a99",
   "metadata": {},
   "outputs": [
    {
     "data": {
      "application/vnd.jupyter.widget-view+json": {
       "model_id": "1b616f072ca842f5b07ae41c3aec4904",
       "version_major": 2,
       "version_minor": 0
      },
      "text/plain": [
       "tokenizer_config.json:   0%|          | 0.00/87.0 [00:00<?, ?B/s]"
      ]
     },
     "metadata": {},
     "output_type": "display_data"
    },
    {
     "name": "stderr",
     "output_type": "stream",
     "text": [
      "D:\\ML Projects\\Blog-Bot\\venv\\Lib\\site-packages\\huggingface_hub\\file_download.py:149: UserWarning: `huggingface_hub` cache-system uses symlinks by default to efficiently store duplicated files but your machine does not support them in C:\\Users\\prxsh\\.cache\\huggingface\\hub\\models--google--pegasus-xsum. Caching files will still work but in a degraded version that might require more space on your disk. This warning can be disabled by setting the `HF_HUB_DISABLE_SYMLINKS_WARNING` environment variable. For more details, see https://huggingface.co/docs/huggingface_hub/how-to-cache#limitations.\n",
      "To support symlinks on Windows, you either need to activate Developer Mode or to run Python as an administrator. In order to see activate developer mode, see this article: https://docs.microsoft.com/en-us/windows/apps/get-started/enable-your-device-for-development\n",
      "  warnings.warn(message)\n"
     ]
    },
    {
     "data": {
      "application/vnd.jupyter.widget-view+json": {
       "model_id": "56642374a46547fba108865e8392ec73",
       "version_major": 2,
       "version_minor": 0
      },
      "text/plain": [
       "spiece.model:   0%|          | 0.00/1.91M [00:00<?, ?B/s]"
      ]
     },
     "metadata": {},
     "output_type": "display_data"
    },
    {
     "data": {
      "application/vnd.jupyter.widget-view+json": {
       "model_id": "3429411bd0d240629e34cdb81277fb8d",
       "version_major": 2,
       "version_minor": 0
      },
      "text/plain": [
       "special_tokens_map.json:   0%|          | 0.00/65.0 [00:00<?, ?B/s]"
      ]
     },
     "metadata": {},
     "output_type": "display_data"
    },
    {
     "data": {
      "application/vnd.jupyter.widget-view+json": {
       "model_id": "55faf32fb0f147ec86d854d8af6b9713",
       "version_major": 2,
       "version_minor": 0
      },
      "text/plain": [
       "tokenizer.json:   0%|          | 0.00/3.52M [00:00<?, ?B/s]"
      ]
     },
     "metadata": {},
     "output_type": "display_data"
    },
    {
     "data": {
      "application/vnd.jupyter.widget-view+json": {
       "model_id": "13c86f1a09794fe9bd6bca07bb9cefee",
       "version_major": 2,
       "version_minor": 0
      },
      "text/plain": [
       "config.json:   0%|          | 0.00/1.39k [00:00<?, ?B/s]"
      ]
     },
     "metadata": {},
     "output_type": "display_data"
    },
    {
     "data": {
      "application/vnd.jupyter.widget-view+json": {
       "model_id": "98dba04a0df4410bb1d6ba3f2ba92c2d",
       "version_major": 2,
       "version_minor": 0
      },
      "text/plain": [
       "pytorch_model.bin:   0%|          | 0.00/2.28G [00:00<?, ?B/s]"
      ]
     },
     "metadata": {},
     "output_type": "display_data"
    },
    {
     "name": "stderr",
     "output_type": "stream",
     "text": [
      "Some weights of PegasusForConditionalGeneration were not initialized from the model checkpoint at google/pegasus-xsum and are newly initialized: ['model.decoder.embed_positions.weight', 'model.encoder.embed_positions.weight']\n",
      "You should probably TRAIN this model on a down-stream task to be able to use it for predictions and inference.\n"
     ]
    },
    {
     "data": {
      "application/vnd.jupyter.widget-view+json": {
       "model_id": "8933775a16894d0d817e564ea6bee92e",
       "version_major": 2,
       "version_minor": 0
      },
      "text/plain": [
       "generation_config.json:   0%|          | 0.00/259 [00:00<?, ?B/s]"
      ]
     },
     "metadata": {},
     "output_type": "display_data"
    }
   ],
   "source": [
    "#pegasus load\n",
    "model_name='google/pegasus-xsum'\n",
    "tokenizer= PegasusTokenizer.from_pretrained(model_name)\n",
    "model = PegasusForConditionalGeneration.from_pretrained(model_name)"
   ]
  },
  {
   "cell_type": "code",
   "execution_count": 44,
   "id": "34380fdd-243f-4695-a307-7602f738bc75",
   "metadata": {},
   "outputs": [],
   "source": [
    "base_url='https://www.wired.com'\n",
    "relative_url='/tag/machine-learning'\n",
    "url=urljoin(base_url, relative_url)\n",
    "page= requests.get(url)\n",
    "soup=BeautifulSoup(page.content, 'html.parser')"
   ]
  },
  {
   "cell_type": "code",
   "execution_count": 50,
   "id": "0c5ed4b5-7241-4644-aec6-e3b23dced49f",
   "metadata": {
    "scrolled": true
   },
   "outputs": [],
   "source": [
    "def get_content_from_url(base_url, relative_url):\n",
    "    try:\n",
    "        absolute_url = urljoin(base_url, relative_url)\n",
    "        session = HTMLSession()\n",
    "        response = session.get(absolute_url)\n",
    "        response.raise_for_status() \n",
    "        content_element = response.html.find('div.body__inner-container', first=True)\n",
    "        if content_element:\n",
    "            content = content_element.text\n",
    "            return content\n",
    "        else:\n",
    "            print(f\"Content element not found in URL '{absolute_url}'\")\n",
    "            return None\n",
    "    except requests.exceptions.RequestException as e:\n",
    "        print(f\"Error fetching content from URL '{absolute_url}': {e}\")\n",
    "        return None\n",
    "\n",
    "# Function to preprocess text\n",
    "def preprocess_text(text):\n",
    "    if len(text.split()) > 1024:\n",
    "        text = ' '.join(text.split()[:1024])\n",
    "    return text\n",
    "\n",
    "# Function to paraphrase text\n",
    "def paraphraser(text):\n",
    "    if text is None:\n",
    "        return None\n",
    "    # Check the length of the input text\n",
    "    if len(text) > 1024:\n",
    "        print(\"Input text is too long for tokenization. Please ensure it is within 1024 tokens.\")\n",
    "        return None\n",
    "    inputs = tokenizer(text, max_length=1024, return_tensors='pt', truncation=True)\n",
    "    summary_ids = model.generate(inputs['input_ids'], num_beams=4, max_length=150, early_stopping=True)\n",
    "    paraphrased_text = tokenizer.decode(summary_ids[0], skip_special_tokens=True, clean_up_tokenization_spaces=True)\n",
    "    return paraphrased_text\n",
    "\n",
    "# Function to extract titles and content\n",
    "def extract_titles_and_content(base_url, soup):\n",
    "    title_content_dict = {}\n",
    "    titles = soup.select('.SummaryItemHedBase-hiFYpQ')\n",
    "    for title in titles:\n",
    "        title_text = title.text.strip()\n",
    "        content_url = title.find_parent('a')['href']\n",
    "        \n",
    "        content = get_content_from_url(base_url, content_url)\n",
    "        paraphrased_content = paraphraser(content)\n",
    "        if paraphrased_content:\n",
    "            title_content_dict[title_text] = paraphrased_content\n",
    "    return title_content_dict"
   ]
  },
  {
   "cell_type": "code",
   "execution_count": 66,
   "id": "201195c7-ba6f-4019-b2f1-7c9f66c1e6a2",
   "metadata": {
    "scrolled": true
   },
   "outputs": [
    {
     "name": "stdout",
     "output_type": "stream",
     "text": [
      "0 : Meet the Pranksters Behind Goody-2, the World’s ‘Most Responsible’ AI Chatbot\n",
      "Content: None\n",
      "\n",
      "1 : London Underground Is Testing Real-Time AI Surveillance Tools to Spot Crime\n",
      "Content: None\n",
      "\n",
      "2 : How to Get Gemini Advanced, Google's Subscription-Only AI Chatbot\n",
      "Content: None\n",
      "\n",
      "3 : OpenAI Quietly Scrapped a Promise to Disclose Key Documents to the Public\n",
      "Content: None\n",
      "\n",
      "4 : Most Top News Sites Block AI Bots. Right-Wing Media Welcomes Them\n",
      "Content: None\n",
      "\n",
      "5 : This Chinese Startup Is Winning the Open Source AI Race\n",
      "Content: None\n",
      "\n",
      "6 : ChatGPT's Hunger for Energy Could Trigger a GPU Revolution\n",
      "Content: None\n",
      "\n",
      "7 : This Tech Exec Quit His Job to Fight Generative AI's Original Sin\n",
      "Content: None\n",
      "\n",
      "8 : How to Launch a Custom Chatbot on OpenAI’s GPT Store\n",
      "Content: None\n",
      "\n",
      "9 : Toyota's Robots Are Learning to Do Housework—By Copying Humans\n",
      "Content: None\n",
      "\n",
      "10 : In Defense of AI Hallucinations\n",
      "Content: None\n",
      "\n",
      "11 : The Man Who Made Robots Dance Now Wants Them to Think for Themselves\n",
      "Content: None\n",
      "\n",
      "12 : AI May Not Steal Your Job, but It Could Stop You Getting Hired\n",
      "Content: None\n",
      "\n",
      "13 : Generative AI Learned Nothing From Web 2.0\n",
      "Content: None\n",
      "\n",
      "14 : OpenAI Cofounder Reid Hoffman Gives Sam Altman a Vote of Confidence\n",
      "Content: The co-founder of one of the world’s biggest artificial intelligence companies says he’s not surprised by the recent turmoil at the firm.\n",
      "\n",
      "15 : Google Just Launched Gemini, Its Long-Awaited Answer to ChatGPT\n",
      "Content: None\n",
      "\n",
      "16 : The Year of ChatGPT and Living Generatively\n",
      "Content: None\n",
      "\n",
      "17 : These Clues Hint at the True Nature of OpenAI’s Shadowy Q* Project\n",
      "Content: None\n",
      "\n",
      "18 : How OpenAI’s Bizarre Structure Gave 4 People the Power to Fire Sam Altman\n",
      "Content: None\n",
      "\n",
      "19 : The Case for Using AI to Log Your Every Living Moment\n",
      "Content: None\n",
      "\n",
      "20 : YouTube Shorts Challenges TikTok With Music-Making AI for Creators\n",
      "Content: None\n",
      "\n",
      "21 : Google DeepMind’s AI Weather Forecaster Handily Beats a Global Standard\n",
      "Content: None\n",
      "\n",
      "22 : Fei-Fei Li Started an AI Revolution by Seeing Like an Algorithm\n",
      "Content: None\n",
      "\n",
      "23 : This New Breed of AI Assistant Wants to Do Your Boring Office Chores\n",
      "Content: None\n",
      "\n",
      "24 : ChatGPT vs. Gemini: Which AI Chatbot Subscription Is Right for You?\n",
      "Content: None\n",
      "\n",
      "25 : Diablo IV Heads to Game Pass as Microsoft Eyes 4 Games to Expand Beyond Xbox\n",
      "Content: None\n",
      "\n",
      "26 : The 57 Best Movies on Disney+ Right Now\n",
      "Content: None\n",
      "\n",
      "27 : OpenAI’s Sora Turns AI Prompts Into Photorealistic Videos\n",
      "Content: None\n",
      "\n"
     ]
    }
   ],
   "source": [
    "#Titles with their indexes\n",
    "for i, (title, content) in enumerate(title_content_dict.items(), start=1):\n",
    "    print(f\"{i-1} : {title}\")\n",
    "    print(f\"Content: {content}\\n\")"
   ]
  },
  {
   "cell_type": "code",
   "execution_count": 65,
   "id": "f3012a97-5061-45b2-8555-691fb7cf3bcf",
   "metadata": {},
   "outputs": [
    {
     "name": "stdout",
     "output_type": "stream",
     "text": [
      "Content for 'The Year of ChatGPT and Living Generatively' is not available.\n"
     ]
    }
   ],
   "source": [
    "titles_list = list(title_content_dict.items())\n",
    "third_title_index = 16\n",
    "if len(titles_list) > third_title_index:\n",
    "    third_title, third_content = titles_list[third_title_index]\n",
    "    if third_content is not None:\n",
    "        print(f\"Title: {third_title}\")\n",
    "        print(f\"Content: {third_content[:50000]}\\n\")\n",
    "    else:\n",
    "        print(f\"Content for '{third_title}' is not available.\")\n",
    "else:\n",
    "    print(\"Error: Index out of range\")"
   ]
  },
  {
   "cell_type": "code",
   "execution_count": null,
   "id": "d3f07d0c-546e-47cc-85d0-9d90a6e856c2",
   "metadata": {},
   "outputs": [],
   "source": []
  }
 ],
 "metadata": {
  "kernelspec": {
   "display_name": "Python 3 (ipykernel)",
   "language": "python",
   "name": "python3"
  },
  "language_info": {
   "codemirror_mode": {
    "name": "ipython",
    "version": 3
   },
   "file_extension": ".py",
   "mimetype": "text/x-python",
   "name": "python",
   "nbconvert_exporter": "python",
   "pygments_lexer": "ipython3",
   "version": "3.11.4"
  }
 },
 "nbformat": 4,
 "nbformat_minor": 5
}
