{
 "cells": [
  {
   "cell_type": "code",
   "execution_count": 10,
   "id": "cac13e8a-a25e-4be3-8aec-8b569a31f77e",
   "metadata": {},
   "outputs": [],
   "source": [
    "from bs4 import BeautifulSoup\n",
    "import requests\n",
    "# import torch\n",
    "# from transformers import PegasusForConditionalGeneration, PegasusTokenizer\n",
    "from urllib.parse import urljoin\n",
    "from requests_html import HTMLSession"
   ]
  },
  {
   "cell_type": "code",
   "execution_count": 11,
   "id": "03a57428-b233-4dba-b75e-6ff25cf84a99",
   "metadata": {},
   "outputs": [
    {
     "ename": "NameError",
     "evalue": "name 'PegasusTokenizer' is not defined",
     "output_type": "error",
     "traceback": [
      "\u001b[0;31m---------------------------------------------------------------------------\u001b[0m",
      "\u001b[0;31mNameError\u001b[0m                                 Traceback (most recent call last)",
      "Cell \u001b[0;32mIn[11], line 3\u001b[0m\n\u001b[1;32m      1\u001b[0m \u001b[38;5;66;03m#pegasus load\u001b[39;00m\n\u001b[1;32m      2\u001b[0m model_name\u001b[38;5;241m=\u001b[39m\u001b[38;5;124m'\u001b[39m\u001b[38;5;124mgoogle/pegasus-xsum\u001b[39m\u001b[38;5;124m'\u001b[39m\n\u001b[0;32m----> 3\u001b[0m tokenizer\u001b[38;5;241m=\u001b[39m \u001b[43mPegasusTokenizer\u001b[49m\u001b[38;5;241m.\u001b[39mfrom_pretrained(model_name)\n\u001b[1;32m      4\u001b[0m model \u001b[38;5;241m=\u001b[39m PegasusForConditionalGeneration\u001b[38;5;241m.\u001b[39mfrom_pretrained(model_name)\n",
      "\u001b[0;31mNameError\u001b[0m: name 'PegasusTokenizer' is not defined"
     ]
    }
   ],
   "source": [
    "#pegasus load\n",
    "model_name='google/pegasus-xsum'\n",
    "tokenizer= PegasusTokenizer.from_pretrained(model_name)\n",
    "model = PegasusForConditionalGeneration.from_pretrained(model_name)"
   ]
  },
  {
   "cell_type": "code",
   "execution_count": 12,
   "id": "34380fdd-243f-4695-a307-7602f738bc75",
   "metadata": {},
   "outputs": [],
   "source": [
    "base_url='https://techcrunch.com'\n",
    "relative_url='/category/artificial-intelligence'\n",
    "url=urljoin(base_url, relative_url)\n",
    "page= requests.get(url)\n",
    "soup=BeautifulSoup(page.content, 'html.parser')"
   ]
  },
  {
   "cell_type": "code",
   "execution_count": 21,
   "id": "0c5ed4b5-7241-4644-aec6-e3b23dced49f",
   "metadata": {
    "scrolled": true
   },
   "outputs": [
    {
     "ename": "SyntaxError",
     "evalue": "did you forget parentheses around the comprehension target? (2536450088.py, line 8)",
     "output_type": "error",
     "traceback": [
      "\u001b[0;36m  Cell \u001b[0;32mIn[21], line 8\u001b[0;36m\u001b[0m\n\u001b[0;31m    headlines=[headline.text, headline.absolute_links.pop() for headline in headlines_elements]\u001b[0m\n\u001b[0m               ^\u001b[0m\n\u001b[0;31mSyntaxError\u001b[0m\u001b[0;31m:\u001b[0m did you forget parentheses around the comprehension target?\n"
     ]
    }
   ],
   "source": [
    "def get_headlines(base_url, relative_url):\n",
    "    try:\n",
    "        absolute_url = urljoin(base_url, relative_url)\n",
    "        session = HTMLSession()\n",
    "        response = session.get(absolute_url)\n",
    "        response.raise_for_status() \n",
    "        content_element = response.html.find('h2.post-block__title')\n",
    "        headlines=[headline.text, headline.absolute_links.pop() for headline in headlines_elements]\n",
    "        return headlines\n",
    "    except Exception as e:\n",
    "        print(f\"Error fetching headlines from URL '{absolute_url}': {e}\")\n",
    "        return None\n",
    "\n",
    "# Function to preprocess text\n",
    "def preprocess_text(text):\n",
    "    if len(text.split()) > 1024:\n",
    "        text = ' '.join(text.split()[:1024])\n",
    "    return text\n",
    "\n",
    "# Function to paraphrase text\n",
    "def paraphraser(text):\n",
    "    if text is None:\n",
    "        return None\n",
    "    # Check the length of the input text\n",
    "    if len(text) > 1024:\n",
    "        print(\"Input text is too long for tokenization. Please ensure it is within 1024 tokens.\")\n",
    "        return None\n",
    "    inputs = tokenizer(text, max_length=1024, return_tensors='pt', truncation=True)\n",
    "    summary_ids = model.generate(inputs['input_ids'], num_beams=4, max_length=150, early_stopping=True)\n",
    "    paraphrased_text = tokenizer.decode(summary_ids[0], skip_special_tokens=True, clean_up_tokenization_spaces=True)\n",
    "    return paraphrased_text\n",
    "\n",
    "# Function to extract titles and content\n",
    "def get_content(article_url):\n",
    "    try:\n",
    "        session= HTMLSession()\n",
    "        response= session.get(article_url)\n",
    "        response.raise_for_status()\n",
    "        content_element= response.html.find('div.article-content', first=True)\n",
    "        if content_element:\n",
    "            content = content_element.text\n",
    "            return content\n",
    "        else:\n",
    "            print(f\"Content elemtn not found in URL"
   ]
  },
  {
   "cell_type": "code",
   "execution_count": 19,
   "id": "cd3bd568-01aa-4254-9953-634f7b93f223",
   "metadata": {},
   "outputs": [
    {
     "name": "stdout",
     "output_type": "stream",
     "text": [
      "0. The women in AI making a difference\n",
      "1. Women In AI: Lee Tiedrich, AI expert at the Global Partnership on AI\n",
      "2. How Bret Taylor’s new company is rethinking customer experience in the age of AI\n",
      "3. Dili wants to automate due diligence with AI\n",
      "4. SoftBank’s Masayoshi Son is reportedly seeking $100B to build a new AI chip venture\n",
      "5. Women In AI: Eva Maydell, member of European Parliament and EU AI Act advisor\n",
      "6. Women In AI: Irene Solaiman, head of global policy at Hugging Face\n",
      "7. A peek inside Alphabet’s $7 billion growth-stage investing arm, CapitalG\n",
      "8. What we expect from MWC 2024\n",
      "9. Tech giants sign voluntary pledge to fight election-related deepfakes\n",
      "10. Foundry is shutting down in slow motion\n",
      "11. Google Gemini: Everything you need to know about the new generative AI platform\n",
      "12. Europe’s Digital Services Act applies in full from tomorrow — here’s what you need to know\n",
      "13. Clubhouse’s new feature turns your texts into custom voice messages\n",
      "14. Anthropic takes steps to prevent election misinformation\n",
      "15. How Neara uses AI to protect utilities from extreme weather\n",
      "16. OpenAI’s Sora video-generating model can render video games, too\n",
      "17. FTC seeks to modify rule to combat deepfakes\n",
      "18. This German nonprofit is building an open voice assistant that anyone can use\n",
      "19. No ‘GPT’ trademark for OpenAI\n"
     ]
    }
   ],
   "source": [
    "#Titles with their indexes\n",
    "headlines=get_headlines(base_url, relative_url)\n",
    "if headlines:\n",
    "    for i, headline in enumerate(headlines, 1):\n",
    "        print(f\"{i-1}. {headline}\")"
   ]
  },
  {
   "cell_type": "code",
   "execution_count": 20,
   "id": "201195c7-ba6f-4019-b2f1-7c9f66c1e6a2",
   "metadata": {
    "scrolled": true
   },
   "outputs": [
    {
     "ename": "NameError",
     "evalue": "name 'title_content_dict' is not defined",
     "output_type": "error",
     "traceback": [
      "\u001b[0;31m---------------------------------------------------------------------------\u001b[0m",
      "\u001b[0;31mNameError\u001b[0m                                 Traceback (most recent call last)",
      "Cell \u001b[0;32mIn[20], line 1\u001b[0m\n\u001b[0;32m----> 1\u001b[0m \u001b[38;5;28;01mfor\u001b[39;00m i, (title, content) \u001b[38;5;129;01min\u001b[39;00m \u001b[38;5;28menumerate\u001b[39m(\u001b[43mtitle_content_dict\u001b[49m\u001b[38;5;241m.\u001b[39mitems(), start\u001b[38;5;241m=\u001b[39m\u001b[38;5;241m1\u001b[39m):\n\u001b[1;32m      2\u001b[0m     \u001b[38;5;28mprint\u001b[39m(\u001b[38;5;124mf\u001b[39m\u001b[38;5;124m\"\u001b[39m\u001b[38;5;132;01m{\u001b[39;00mi\u001b[38;5;241m-\u001b[39m\u001b[38;5;241m1\u001b[39m\u001b[38;5;132;01m}\u001b[39;00m\u001b[38;5;124m : \u001b[39m\u001b[38;5;132;01m{\u001b[39;00mtitle\u001b[38;5;132;01m}\u001b[39;00m\u001b[38;5;124m\"\u001b[39m)\n\u001b[1;32m      3\u001b[0m     \u001b[38;5;28mprint\u001b[39m(\u001b[38;5;124mf\u001b[39m\u001b[38;5;124m\"\u001b[39m\u001b[38;5;124mContent: \u001b[39m\u001b[38;5;132;01m{\u001b[39;00mcontent\u001b[38;5;132;01m}\u001b[39;00m\u001b[38;5;130;01m\\n\u001b[39;00m\u001b[38;5;124m\"\u001b[39m)\n",
      "\u001b[0;31mNameError\u001b[0m: name 'title_content_dict' is not defined"
     ]
    }
   ],
   "source": [
    "for i, (title, content) in enumerate(title_content_dict.items(), start=1):\n",
    "    print(f\"{i-1} : {title}\")\n",
    "    print(f\"Content: {content}\\n\")"
   ]
  },
  {
   "cell_type": "code",
   "execution_count": 65,
   "id": "f3012a97-5061-45b2-8555-691fb7cf3bcf",
   "metadata": {},
   "outputs": [
    {
     "name": "stdout",
     "output_type": "stream",
     "text": [
      "Content for 'The Year of ChatGPT and Living Generatively' is not available.\n"
     ]
    }
   ],
   "source": [
    "titles_list = list(title_content_dict.items())\n",
    "third_title_index = 16\n",
    "if len(titles_list) > third_title_index:\n",
    "    third_title, third_content = titles_list[third_title_index]\n",
    "    if third_content is not None:\n",
    "        print(f\"Title: {third_title}\")\n",
    "        print(f\"Content: {third_content[:50000]}\\n\")\n",
    "    else:\n",
    "        print(f\"Content for '{third_title}' is not available.\")\n",
    "else:\n",
    "    print(\"Error: Index out of range\")"
   ]
  },
  {
   "cell_type": "code",
   "execution_count": null,
   "id": "d3f07d0c-546e-47cc-85d0-9d90a6e856c2",
   "metadata": {},
   "outputs": [],
   "source": []
  }
 ],
 "metadata": {
  "kernelspec": {
   "display_name": "Python 3 (ipykernel)",
   "language": "python",
   "name": "python3"
  },
  "language_info": {
   "codemirror_mode": {
    "name": "ipython",
    "version": 3
   },
   "file_extension": ".py",
   "mimetype": "text/x-python",
   "name": "python",
   "nbconvert_exporter": "python",
   "pygments_lexer": "ipython3",
   "version": "3.11.7"
  }
 },
 "nbformat": 4,
 "nbformat_minor": 5
}
